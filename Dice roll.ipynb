{
  "nbformat": 4,
  "nbformat_minor": 0,
  "metadata": {
    "colab": {
      "provenance": []
    },
    "kernelspec": {
      "name": "python3",
      "display_name": "Python 3"
    },
    "language_info": {
      "name": "python"
    }
  },
  "cells": [
    {
      "cell_type": "code",
      "execution_count": 1,
      "metadata": {
        "colab": {
          "base_uri": "https://localhost:8080/"
        },
        "id": "2Y5GzIk0Zm_L",
        "outputId": "89203555-0747-4d3e-948f-4e5d2a5151da"
      },
      "outputs": [
        {
          "name": "stdout",
          "output_type": "stream",
          "text": [
            "'1. roll the dice 2. exit'\n",
            "what you want to do\n",
            "2\n"
          ]
        }
      ],
      "source": [
        "import random\n",
        "while True:\n",
        "    print(\"'1. roll the dice 2. exit'\")\n",
        "    user=int(input(\"what you want to do\\n\"))\n",
        "    if user==1:\n",
        "        number=random.randint(1,6)\n",
        "        print(number)\n",
        "    else:\n",
        "        break"
      ]
    }
  ]
}